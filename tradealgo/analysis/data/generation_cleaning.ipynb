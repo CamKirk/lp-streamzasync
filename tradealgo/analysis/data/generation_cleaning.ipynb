{
 "cells": [
  {
   "cell_type": "code",
   "execution_count": 34,
   "metadata": {},
   "outputs": [],
   "source": [
    "import pandas as pd\n",
    "import seaborn as sns\n",
    "import numpy as np"
   ]
  },
  {
   "cell_type": "code",
   "execution_count": 3,
   "metadata": {},
   "outputs": [],
   "source": [
    "df = pd.read_csv(\"./clean/generation_data.csv\")"
   ]
  },
  {
   "cell_type": "code",
   "execution_count": 9,
   "metadata": {},
   "outputs": [
    {
     "data": {
      "text/plain": [
       "year                                  int64\n",
       "month                                object\n",
       "net_utility_generation                int64\n",
       "est_distributed_generation           object\n",
       "utility_generation                    int64\n",
       "independent_generation               object\n",
       "commercial_utility_generation         int64\n",
       "commercial_distributed_generation     int64\n",
       "industrial_utility_generation        object\n",
       "industrial_distributed_generation     int64\n",
       "residential_generation                int64\n",
       "summer_capacity_utility              object\n",
       "summer_capacity_distributed          object\n",
       "summer_capacity_residential          object\n",
       "summer_capacity_commercial           object\n",
       "summer_capacity_industrial           object\n",
       "dtype: object"
      ]
     },
     "execution_count": 9,
     "metadata": {},
     "output_type": "execute_result"
    }
   ],
   "source": [
    "df.dtypes"
   ]
  },
  {
   "cell_type": "markdown",
   "metadata": {},
   "source": [
    "## fix datatypes"
   ]
  },
  {
   "cell_type": "code",
   "execution_count": 18,
   "metadata": {},
   "outputs": [],
   "source": [
    "def remove_commas(string):\n",
    "    return string.replace(\",\",\"\")"
   ]
  },
  {
   "cell_type": "code",
   "execution_count": 28,
   "metadata": {},
   "outputs": [
    {
     "data": {
      "text/plain": [
       "True"
      ]
     },
     "execution_count": 28,
     "metadata": {},
     "output_type": "execute_result"
    }
   ],
   "source": [
    "df[\"est_distributed_generation\"].dtype == \"O\""
   ]
  },
  {
   "cell_type": "code",
   "execution_count": 21,
   "metadata": {},
   "outputs": [
    {
     "data": {
      "text/plain": [
       "0      624\n",
       "1      664\n",
       "2      907\n",
       "3      988\n",
       "4     1092\n",
       "      ... \n",
       "62    2968\n",
       "63    3309\n",
       "64    3582\n",
       "65    3638\n",
       "66    3799\n",
       "Name: est_distributed_generation, Length: 67, dtype: int64"
      ]
     },
     "execution_count": 21,
     "metadata": {},
     "output_type": "execute_result"
    }
   ],
   "source": [
    "pd.to_numeric(df[\"est_distributed_generation\"].apply(remove_commas))"
   ]
  },
  {
   "cell_type": "code",
   "execution_count": 30,
   "metadata": {},
   "outputs": [],
   "source": [
    "for column in df.columns:\n",
    "    if df[column].dtype == \"O\":\n",
    "        try:\n",
    "            df[column] = pd.to_numeric(df[column].apply(remove_commas))\n",
    "        except:\n",
    "            continue\n",
    "        "
   ]
  },
  {
   "cell_type": "code",
   "execution_count": 31,
   "metadata": {},
   "outputs": [
    {
     "data": {
      "text/plain": [
       "year                                   int64\n",
       "month                                 object\n",
       "net_utility_generation                 int64\n",
       "est_distributed_generation             int64\n",
       "utility_generation                     int64\n",
       "independent_generation                 int64\n",
       "commercial_utility_generation          int64\n",
       "commercial_distributed_generation      int64\n",
       "industrial_utility_generation         object\n",
       "industrial_distributed_generation      int64\n",
       "residential_generation                 int64\n",
       "summer_capacity_utility              float64\n",
       "summer_capacity_distributed          float64\n",
       "summer_capacity_residential          float64\n",
       "summer_capacity_commercial           float64\n",
       "summer_capacity_industrial           float64\n",
       "dtype: object"
      ]
     },
     "execution_count": 31,
     "metadata": {},
     "output_type": "execute_result"
    }
   ],
   "source": [
    "df.dtypes"
   ]
  },
  {
   "cell_type": "code",
   "execution_count": 44,
   "metadata": {},
   "outputs": [],
   "source": [
    "df[\"industrial_utility_generation\"]=pd.to_numeric(df[\"industrial_utility_generation\"].replace(\"NM\", np.nan, regex=False))"
   ]
  },
  {
   "cell_type": "code",
   "execution_count": 45,
   "metadata": {},
   "outputs": [
    {
     "data": {
      "text/plain": [
       "year                                   int64\n",
       "month                                 object\n",
       "net_utility_generation                 int64\n",
       "est_distributed_generation             int64\n",
       "utility_generation                     int64\n",
       "independent_generation                 int64\n",
       "commercial_utility_generation          int64\n",
       "commercial_distributed_generation      int64\n",
       "industrial_utility_generation        float64\n",
       "industrial_distributed_generation      int64\n",
       "residential_generation                 int64\n",
       "summer_capacity_utility              float64\n",
       "summer_capacity_distributed          float64\n",
       "summer_capacity_residential          float64\n",
       "summer_capacity_commercial           float64\n",
       "summer_capacity_industrial           float64\n",
       "dtype: object"
      ]
     },
     "execution_count": 45,
     "metadata": {},
     "output_type": "execute_result"
    }
   ],
   "source": [
    "df.dtypes"
   ]
  },
  {
   "cell_type": "code",
   "execution_count": 46,
   "metadata": {},
   "outputs": [
    {
     "data": {
      "text/html": [
       "<div>\n",
       "<style scoped>\n",
       "    .dataframe tbody tr th:only-of-type {\n",
       "        vertical-align: middle;\n",
       "    }\n",
       "\n",
       "    .dataframe tbody tr th {\n",
       "        vertical-align: top;\n",
       "    }\n",
       "\n",
       "    .dataframe thead th {\n",
       "        text-align: right;\n",
       "    }\n",
       "</style>\n",
       "<table border=\"1\" class=\"dataframe\">\n",
       "  <thead>\n",
       "    <tr style=\"text-align: right;\">\n",
       "      <th></th>\n",
       "      <th>year</th>\n",
       "      <th>month</th>\n",
       "      <th>net_utility_generation</th>\n",
       "      <th>est_distributed_generation</th>\n",
       "      <th>utility_generation</th>\n",
       "      <th>independent_generation</th>\n",
       "      <th>commercial_utility_generation</th>\n",
       "      <th>commercial_distributed_generation</th>\n",
       "      <th>industrial_utility_generation</th>\n",
       "      <th>industrial_distributed_generation</th>\n",
       "      <th>residential_generation</th>\n",
       "      <th>summer_capacity_utility</th>\n",
       "      <th>summer_capacity_distributed</th>\n",
       "      <th>summer_capacity_residential</th>\n",
       "      <th>summer_capacity_commercial</th>\n",
       "      <th>summer_capacity_industrial</th>\n",
       "    </tr>\n",
       "  </thead>\n",
       "  <tbody>\n",
       "    <tr>\n",
       "      <th>0</th>\n",
       "      <td>2014</td>\n",
       "      <td>January</td>\n",
       "      <td>697</td>\n",
       "      <td>624</td>\n",
       "      <td>53</td>\n",
       "      <td>681</td>\n",
       "      <td>16</td>\n",
       "      <td>300</td>\n",
       "      <td>1.0</td>\n",
       "      <td>62</td>\n",
       "      <td>263</td>\n",
       "      <td>5688.0</td>\n",
       "      <td>5612.6</td>\n",
       "      <td>2285.2</td>\n",
       "      <td>2766.5</td>\n",
       "      <td>561.0</td>\n",
       "    </tr>\n",
       "    <tr>\n",
       "      <th>1</th>\n",
       "      <td>2014</td>\n",
       "      <td>February</td>\n",
       "      <td>752</td>\n",
       "      <td>664</td>\n",
       "      <td>61</td>\n",
       "      <td>753</td>\n",
       "      <td>20</td>\n",
       "      <td>322</td>\n",
       "      <td>1.0</td>\n",
       "      <td>65</td>\n",
       "      <td>277</td>\n",
       "      <td>5839.2</td>\n",
       "      <td>5728.2</td>\n",
       "      <td>2354.4</td>\n",
       "      <td>2804.9</td>\n",
       "      <td>568.9</td>\n",
       "    </tr>\n",
       "    <tr>\n",
       "      <th>2</th>\n",
       "      <td>2014</td>\n",
       "      <td>March</td>\n",
       "      <td>1135</td>\n",
       "      <td>907</td>\n",
       "      <td>91</td>\n",
       "      <td>1196</td>\n",
       "      <td>29</td>\n",
       "      <td>432</td>\n",
       "      <td>1.0</td>\n",
       "      <td>93</td>\n",
       "      <td>382</td>\n",
       "      <td>5967.9</td>\n",
       "      <td>5853.0</td>\n",
       "      <td>2428.2</td>\n",
       "      <td>2848.7</td>\n",
       "      <td>576.2</td>\n",
       "    </tr>\n",
       "    <tr>\n",
       "      <th>3</th>\n",
       "      <td>2014</td>\n",
       "      <td>April</td>\n",
       "      <td>1261</td>\n",
       "      <td>988</td>\n",
       "      <td>98</td>\n",
       "      <td>1355</td>\n",
       "      <td>33</td>\n",
       "      <td>467</td>\n",
       "      <td>2.0</td>\n",
       "      <td>101</td>\n",
       "      <td>421</td>\n",
       "      <td>6188.0</td>\n",
       "      <td>5978.9</td>\n",
       "      <td>2506.9</td>\n",
       "      <td>2883.8</td>\n",
       "      <td>588.2</td>\n",
       "    </tr>\n",
       "    <tr>\n",
       "      <th>4</th>\n",
       "      <td>2014</td>\n",
       "      <td>May</td>\n",
       "      <td>1457</td>\n",
       "      <td>1092</td>\n",
       "      <td>114</td>\n",
       "      <td>1596</td>\n",
       "      <td>38</td>\n",
       "      <td>512</td>\n",
       "      <td>2.0</td>\n",
       "      <td>111</td>\n",
       "      <td>468</td>\n",
       "      <td>6368.8</td>\n",
       "      <td>6111.6</td>\n",
       "      <td>2588.3</td>\n",
       "      <td>2930.2</td>\n",
       "      <td>593.0</td>\n",
       "    </tr>\n",
       "  </tbody>\n",
       "</table>\n",
       "</div>"
      ],
      "text/plain": [
       "   year     month  net_utility_generation  est_distributed_generation  \\\n",
       "0  2014   January                     697                         624   \n",
       "1  2014  February                     752                         664   \n",
       "2  2014     March                    1135                         907   \n",
       "3  2014     April                    1261                         988   \n",
       "4  2014       May                    1457                        1092   \n",
       "\n",
       "   utility_generation  independent_generation  commercial_utility_generation  \\\n",
       "0                  53                     681                             16   \n",
       "1                  61                     753                             20   \n",
       "2                  91                    1196                             29   \n",
       "3                  98                    1355                             33   \n",
       "4                 114                    1596                             38   \n",
       "\n",
       "   commercial_distributed_generation  industrial_utility_generation  \\\n",
       "0                                300                            1.0   \n",
       "1                                322                            1.0   \n",
       "2                                432                            1.0   \n",
       "3                                467                            2.0   \n",
       "4                                512                            2.0   \n",
       "\n",
       "   industrial_distributed_generation  residential_generation  \\\n",
       "0                                 62                     263   \n",
       "1                                 65                     277   \n",
       "2                                 93                     382   \n",
       "3                                101                     421   \n",
       "4                                111                     468   \n",
       "\n",
       "   summer_capacity_utility  summer_capacity_distributed  \\\n",
       "0                   5688.0                       5612.6   \n",
       "1                   5839.2                       5728.2   \n",
       "2                   5967.9                       5853.0   \n",
       "3                   6188.0                       5978.9   \n",
       "4                   6368.8                       6111.6   \n",
       "\n",
       "   summer_capacity_residential  summer_capacity_commercial  \\\n",
       "0                       2285.2                      2766.5   \n",
       "1                       2354.4                      2804.9   \n",
       "2                       2428.2                      2848.7   \n",
       "3                       2506.9                      2883.8   \n",
       "4                       2588.3                      2930.2   \n",
       "\n",
       "   summer_capacity_industrial  \n",
       "0                       561.0  \n",
       "1                       568.9  \n",
       "2                       576.2  \n",
       "3                       588.2  \n",
       "4                       593.0  "
      ]
     },
     "execution_count": 46,
     "metadata": {},
     "output_type": "execute_result"
    }
   ],
   "source": [
    "df.head()"
   ]
  },
  {
   "cell_type": "code",
   "execution_count": 66,
   "metadata": {},
   "outputs": [],
   "source": [
    "df.to_csv(\"./clean/cleaned_generation_data.csv\", index=False)"
   ]
  },
  {
   "cell_type": "code",
   "execution_count": null,
   "metadata": {},
   "outputs": [],
   "source": []
  }
 ],
 "metadata": {
  "file_extension": ".py",
  "kernelspec": {
   "display_name": "Python 3",
   "language": "python",
   "name": "python3"
  },
  "language_info": {
   "codemirror_mode": {
    "name": "ipython",
    "version": 3
   },
   "file_extension": ".py",
   "mimetype": "text/x-python",
   "name": "python",
   "nbconvert_exporter": "python",
   "pygments_lexer": "ipython3",
   "version": "3.6.9"
  },
  "mimetype": "text/x-python",
  "name": "python",
  "npconvert_exporter": "python",
  "pygments_lexer": "ipython3",
  "version": 3
 },
 "nbformat": 4,
 "nbformat_minor": 4
}
