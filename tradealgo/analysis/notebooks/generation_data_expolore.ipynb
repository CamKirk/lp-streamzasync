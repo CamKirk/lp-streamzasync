{
 "cells": [
  {
   "cell_type": "code",
   "execution_count": 1,
   "metadata": {},
   "outputs": [],
   "source": [
    "import pandas as pd\n",
    "import numpy as np\n",
    "import matplotlib.pyplot as plt\n",
    "import seaborn as sns"
   ]
  },
  {
   "cell_type": "code",
   "execution_count": 8,
   "metadata": {},
   "outputs": [],
   "source": [
    "gen_df = pd.read_csv(\"../data/clean/cleaned_generation_data.csv\")"
   ]
  },
  {
   "cell_type": "code",
   "execution_count": 9,
   "metadata": {},
   "outputs": [
    {
     "data": {
      "text/html": [
       "<div>\n",
       "<style scoped>\n",
       "    .dataframe tbody tr th:only-of-type {\n",
       "        vertical-align: middle;\n",
       "    }\n",
       "\n",
       "    .dataframe tbody tr th {\n",
       "        vertical-align: top;\n",
       "    }\n",
       "\n",
       "    .dataframe thead th {\n",
       "        text-align: right;\n",
       "    }\n",
       "</style>\n",
       "<table border=\"1\" class=\"dataframe\">\n",
       "  <thead>\n",
       "    <tr style=\"text-align: right;\">\n",
       "      <th></th>\n",
       "      <th>year</th>\n",
       "      <th>month</th>\n",
       "      <th>net_utility_generation</th>\n",
       "      <th>est_distributed_generation</th>\n",
       "      <th>utility_generation</th>\n",
       "      <th>independent_generation</th>\n",
       "      <th>commercial_utility_generation</th>\n",
       "      <th>commercial_distributed_generation</th>\n",
       "      <th>industrial_utility_generation</th>\n",
       "      <th>industrial_distributed_generation</th>\n",
       "      <th>residential_generation</th>\n",
       "      <th>summer_capacity_utility</th>\n",
       "      <th>summer_capacity_distributed</th>\n",
       "      <th>summer_capacity_residential</th>\n",
       "      <th>summer_capacity_commercial</th>\n",
       "      <th>summer_capacity_industrial</th>\n",
       "    </tr>\n",
       "  </thead>\n",
       "  <tbody>\n",
       "    <tr>\n",
       "      <th>0</th>\n",
       "      <td>2014</td>\n",
       "      <td>January</td>\n",
       "      <td>697</td>\n",
       "      <td>624</td>\n",
       "      <td>53</td>\n",
       "      <td>681</td>\n",
       "      <td>16</td>\n",
       "      <td>300</td>\n",
       "      <td>1.0</td>\n",
       "      <td>62</td>\n",
       "      <td>263</td>\n",
       "      <td>5688.0</td>\n",
       "      <td>5612.6</td>\n",
       "      <td>2285.2</td>\n",
       "      <td>2766.5</td>\n",
       "      <td>561.0</td>\n",
       "    </tr>\n",
       "    <tr>\n",
       "      <th>1</th>\n",
       "      <td>2014</td>\n",
       "      <td>February</td>\n",
       "      <td>752</td>\n",
       "      <td>664</td>\n",
       "      <td>61</td>\n",
       "      <td>753</td>\n",
       "      <td>20</td>\n",
       "      <td>322</td>\n",
       "      <td>1.0</td>\n",
       "      <td>65</td>\n",
       "      <td>277</td>\n",
       "      <td>5839.2</td>\n",
       "      <td>5728.2</td>\n",
       "      <td>2354.4</td>\n",
       "      <td>2804.9</td>\n",
       "      <td>568.9</td>\n",
       "    </tr>\n",
       "    <tr>\n",
       "      <th>2</th>\n",
       "      <td>2014</td>\n",
       "      <td>March</td>\n",
       "      <td>1135</td>\n",
       "      <td>907</td>\n",
       "      <td>91</td>\n",
       "      <td>1196</td>\n",
       "      <td>29</td>\n",
       "      <td>432</td>\n",
       "      <td>1.0</td>\n",
       "      <td>93</td>\n",
       "      <td>382</td>\n",
       "      <td>5967.9</td>\n",
       "      <td>5853.0</td>\n",
       "      <td>2428.2</td>\n",
       "      <td>2848.7</td>\n",
       "      <td>576.2</td>\n",
       "    </tr>\n",
       "    <tr>\n",
       "      <th>3</th>\n",
       "      <td>2014</td>\n",
       "      <td>April</td>\n",
       "      <td>1261</td>\n",
       "      <td>988</td>\n",
       "      <td>98</td>\n",
       "      <td>1355</td>\n",
       "      <td>33</td>\n",
       "      <td>467</td>\n",
       "      <td>2.0</td>\n",
       "      <td>101</td>\n",
       "      <td>421</td>\n",
       "      <td>6188.0</td>\n",
       "      <td>5978.9</td>\n",
       "      <td>2506.9</td>\n",
       "      <td>2883.8</td>\n",
       "      <td>588.2</td>\n",
       "    </tr>\n",
       "    <tr>\n",
       "      <th>4</th>\n",
       "      <td>2014</td>\n",
       "      <td>May</td>\n",
       "      <td>1457</td>\n",
       "      <td>1092</td>\n",
       "      <td>114</td>\n",
       "      <td>1596</td>\n",
       "      <td>38</td>\n",
       "      <td>512</td>\n",
       "      <td>2.0</td>\n",
       "      <td>111</td>\n",
       "      <td>468</td>\n",
       "      <td>6368.8</td>\n",
       "      <td>6111.6</td>\n",
       "      <td>2588.3</td>\n",
       "      <td>2930.2</td>\n",
       "      <td>593.0</td>\n",
       "    </tr>\n",
       "  </tbody>\n",
       "</table>\n",
       "</div>"
      ],
      "text/plain": [
       "   year     month  net_utility_generation  est_distributed_generation  \\\n",
       "0  2014   January                     697                         624   \n",
       "1  2014  February                     752                         664   \n",
       "2  2014     March                    1135                         907   \n",
       "3  2014     April                    1261                         988   \n",
       "4  2014       May                    1457                        1092   \n",
       "\n",
       "   utility_generation  independent_generation  commercial_utility_generation  \\\n",
       "0                  53                     681                             16   \n",
       "1                  61                     753                             20   \n",
       "2                  91                    1196                             29   \n",
       "3                  98                    1355                             33   \n",
       "4                 114                    1596                             38   \n",
       "\n",
       "   commercial_distributed_generation  industrial_utility_generation  \\\n",
       "0                                300                            1.0   \n",
       "1                                322                            1.0   \n",
       "2                                432                            1.0   \n",
       "3                                467                            2.0   \n",
       "4                                512                            2.0   \n",
       "\n",
       "   industrial_distributed_generation  residential_generation  \\\n",
       "0                                 62                     263   \n",
       "1                                 65                     277   \n",
       "2                                 93                     382   \n",
       "3                                101                     421   \n",
       "4                                111                     468   \n",
       "\n",
       "   summer_capacity_utility  summer_capacity_distributed  \\\n",
       "0                   5688.0                       5612.6   \n",
       "1                   5839.2                       5728.2   \n",
       "2                   5967.9                       5853.0   \n",
       "3                   6188.0                       5978.9   \n",
       "4                   6368.8                       6111.6   \n",
       "\n",
       "   summer_capacity_residential  summer_capacity_commercial  \\\n",
       "0                       2285.2                      2766.5   \n",
       "1                       2354.4                      2804.9   \n",
       "2                       2428.2                      2848.7   \n",
       "3                       2506.9                      2883.8   \n",
       "4                       2588.3                      2930.2   \n",
       "\n",
       "   summer_capacity_industrial  \n",
       "0                       561.0  \n",
       "1                       568.9  \n",
       "2                       576.2  \n",
       "3                       588.2  \n",
       "4                       593.0  "
      ]
     },
     "execution_count": 9,
     "metadata": {},
     "output_type": "execute_result"
    }
   ],
   "source": [
    "gen_df.head()"
   ]
  },
  {
   "cell_type": "code",
   "execution_count": 10,
   "metadata": {},
   "outputs": [
    {
     "data": {
      "text/plain": [
       "<matplotlib.axes._subplots.AxesSubplot at 0x7f4d27aa4940>"
      ]
     },
     "execution_count": 10,
     "metadata": {},
     "output_type": "execute_result"
    },
    {
     "data": {
      "image/png": "[encoded data removed]",
      "text/plain": [
       "<Figure size 432x288 with 2 Axes>"
      ]
     },
     "metadata": {
      "needs_background": "light"
     },
     "output_type": "display_data"
    }
   ],
   "source": [
    "sns.heatmap(gen_df.corr(), cmap=\"inferno_r\")"
   ]
  },
  {
   "cell_type": "markdown",
   "metadata": {},
   "source": [
    "dark areas suggest closest relationship of linear correlation. as one would expect, the generation features and the capacity features most closely cluster together. it may be worth taking the time to investigate those clusters individually. the relatively mild correlation between the utility-scale commercial generation and the corresponding capacity is somewhat interesting, however. the very strong correlation between year and capacity shows that that not only is capacity likely to continue to grow over time, but that the growth is strongly tied to time in a linear fashion."
   ]
  },
  {
   "cell_type": "code",
   "execution_count": 15,
   "metadata": {},
   "outputs": [
    {
     "data": {
      "text/plain": [
       "<matplotlib.axes._subplots.AxesSubplot at 0x7f4d25076748>"
      ]
     },
     "execution_count": 15,
     "metadata": {},
     "output_type": "execute_result"
    },
    {
     "data": {
      "image/png": "[encoded data removed]",
      "text/plain": [
       "<Figure size 432x288 with 1 Axes>"
      ]
     },
     "metadata": {
      "needs_background": "light"
     },
     "output_type": "display_data"
    }
   ],
   "source": [
    "gen_df[\"summer_capacity_utility\"].plot()"
   ]
  },
  {
   "cell_type": "code",
   "execution_count": 23,
   "metadata": {},
   "outputs": [
    {
     "data": {
      "text/html": [
       "<div>\n",
       "<style scoped>\n",
       "    .dataframe tbody tr th:only-of-type {\n",
       "        vertical-align: middle;\n",
       "    }\n",
       "\n",
       "    .dataframe tbody tr th {\n",
       "        vertical-align: top;\n",
       "    }\n",
       "\n",
       "    .dataframe thead th {\n",
       "        text-align: right;\n",
       "    }\n",
       "</style>\n",
       "<table border=\"1\" class=\"dataframe\">\n",
       "  <thead>\n",
       "    <tr style=\"text-align: right;\">\n",
       "      <th></th>\n",
       "      <th>year</th>\n",
       "      <th>month</th>\n",
       "    </tr>\n",
       "  </thead>\n",
       "  <tbody>\n",
       "    <tr>\n",
       "      <th>0</th>\n",
       "      <td>2014</td>\n",
       "      <td>January</td>\n",
       "    </tr>\n",
       "    <tr>\n",
       "      <th>1</th>\n",
       "      <td>2014</td>\n",
       "      <td>February</td>\n",
       "    </tr>\n",
       "    <tr>\n",
       "      <th>2</th>\n",
       "      <td>2014</td>\n",
       "      <td>March</td>\n",
       "    </tr>\n",
       "    <tr>\n",
       "      <th>3</th>\n",
       "      <td>2014</td>\n",
       "      <td>April</td>\n",
       "    </tr>\n",
       "    <tr>\n",
       "      <th>4</th>\n",
       "      <td>2014</td>\n",
       "      <td>May</td>\n",
       "    </tr>\n",
       "    <tr>\n",
       "      <th>...</th>\n",
       "      <td>...</td>\n",
       "      <td>...</td>\n",
       "    </tr>\n",
       "    <tr>\n",
       "      <th>62</th>\n",
       "      <td>2019</td>\n",
       "      <td>March</td>\n",
       "    </tr>\n",
       "    <tr>\n",
       "      <th>63</th>\n",
       "      <td>2019</td>\n",
       "      <td>April</td>\n",
       "    </tr>\n",
       "    <tr>\n",
       "      <th>64</th>\n",
       "      <td>2019</td>\n",
       "      <td>May</td>\n",
       "    </tr>\n",
       "    <tr>\n",
       "      <th>65</th>\n",
       "      <td>2019</td>\n",
       "      <td>June</td>\n",
       "    </tr>\n",
       "    <tr>\n",
       "      <th>66</th>\n",
       "      <td>2019</td>\n",
       "      <td>July</td>\n",
       "    </tr>\n",
       "  </tbody>\n",
       "</table>\n",
       "<p>67 rows × 2 columns</p>\n",
       "</div>"
      ],
      "text/plain": [
       "    year     month\n",
       "0   2014   January\n",
       "1   2014  February\n",
       "2   2014     March\n",
       "3   2014     April\n",
       "4   2014       May\n",
       "..   ...       ...\n",
       "62  2019     March\n",
       "63  2019     April\n",
       "64  2019       May\n",
       "65  2019      June\n",
       "66  2019      July\n",
       "\n",
       "[67 rows x 2 columns]"
      ]
     },
     "execution_count": 23,
     "metadata": {},
     "output_type": "execute_result"
    }
   ],
   "source": [
    "gen_df[[\"year\",\"month\"]]"
   ]
  },
  {
   "cell_type": "code",
   "execution_count": 28,
   "metadata": {},
   "outputs": [
    {
     "data": {
      "text/html": [
       "<div>\n",
       "<style scoped>\n",
       "    .dataframe tbody tr th:only-of-type {\n",
       "        vertical-align: middle;\n",
       "    }\n",
       "\n",
       "    .dataframe tbody tr th {\n",
       "        vertical-align: top;\n",
       "    }\n",
       "\n",
       "    .dataframe thead th {\n",
       "        text-align: right;\n",
       "    }\n",
       "</style>\n",
       "<table border=\"1\" class=\"dataframe\">\n",
       "  <thead>\n",
       "    <tr style=\"text-align: right;\">\n",
       "      <th></th>\n",
       "      <th>open</th>\n",
       "      <th>high</th>\n",
       "      <th>low</th>\n",
       "      <th>close</th>\n",
       "      <th>volume</th>\n",
       "    </tr>\n",
       "    <tr>\n",
       "      <th>date</th>\n",
       "      <th></th>\n",
       "      <th></th>\n",
       "      <th></th>\n",
       "      <th></th>\n",
       "      <th></th>\n",
       "    </tr>\n",
       "  </thead>\n",
       "  <tbody>\n",
       "    <tr>\n",
       "      <th>2012-03-30</th>\n",
       "      <td>7.50</td>\n",
       "      <td>8.24</td>\n",
       "      <td>7.0600</td>\n",
       "      <td>7.34</td>\n",
       "      <td>5048600.0</td>\n",
       "    </tr>\n",
       "    <tr>\n",
       "      <th>2012-04-02</th>\n",
       "      <td>7.65</td>\n",
       "      <td>8.20</td>\n",
       "      <td>7.4000</td>\n",
       "      <td>7.81</td>\n",
       "      <td>495500.0</td>\n",
       "    </tr>\n",
       "    <tr>\n",
       "      <th>2012-04-03</th>\n",
       "      <td>7.75</td>\n",
       "      <td>7.80</td>\n",
       "      <td>7.5000</td>\n",
       "      <td>7.64</td>\n",
       "      <td>316600.0</td>\n",
       "    </tr>\n",
       "    <tr>\n",
       "      <th>2012-04-04</th>\n",
       "      <td>7.77</td>\n",
       "      <td>7.77</td>\n",
       "      <td>7.3101</td>\n",
       "      <td>7.45</td>\n",
       "      <td>165100.0</td>\n",
       "    </tr>\n",
       "    <tr>\n",
       "      <th>2012-04-05</th>\n",
       "      <td>7.48</td>\n",
       "      <td>7.55</td>\n",
       "      <td>7.3700</td>\n",
       "      <td>7.43</td>\n",
       "      <td>104300.0</td>\n",
       "    </tr>\n",
       "  </tbody>\n",
       "</table>\n",
       "</div>"
      ],
      "text/plain": [
       "            open  high     low  close     volume\n",
       "date                                            \n",
       "2012-03-30  7.50  8.24  7.0600   7.34  5048600.0\n",
       "2012-04-02  7.65  8.20  7.4000   7.81   495500.0\n",
       "2012-04-03  7.75  7.80  7.5000   7.64   316600.0\n",
       "2012-04-04  7.77  7.77  7.3101   7.45   165100.0\n",
       "2012-04-05  7.48  7.55  7.3700   7.43   104300.0"
      ]
     },
     "execution_count": 28,
     "metadata": {},
     "output_type": "execute_result"
    }
   ],
   "source": [
    "enph = pd.read_csv(\"../data/clean/enph.csv\", index_col=\"date\",infer_datetime_format=True, parse_dates=True)\n",
    "enph.head()"
   ]
  },
  {
   "cell_type": "code",
   "execution_count": 33,
   "metadata": {},
   "outputs": [
    {
     "data": {
      "text/plain": [
       "<matplotlib.axes._subplots.AxesSubplot at 0x7f4d27b00908>"
      ]
     },
     "execution_count": 33,
     "metadata": {},
     "output_type": "execute_result"
    },
    {
     "data": {
      "image/png": "[encoded data removed]",
      "text/plain": [
       "<Figure size 432x288 with 1 Axes>"
      ]
     },
     "metadata": {
      "needs_background": "light"
     },
     "output_type": "display_data"
    }
   ],
   "source": [
    "enph.resample(\"M\").mean().plot(y=[\"close\"])"
   ]
  },
  {
   "cell_type": "code",
   "execution_count": 34,
   "metadata": {},
   "outputs": [],
   "source": [
    "# next: add year/month columns, then join with the gen_df\n",
    "# investigate any relationshps beteen gen_df/closing prices (or volume?)\n",
    "# export closing/volume resample to use in plant_changes analysis as well"
   ]
  },
  {
   "cell_type": "code",
   "execution_count": null,
   "metadata": {},
   "outputs": [],
   "source": [
    "\n"
   ]
  }
 ],
 "metadata": {
  "kernelspec": {
   "display_name": "Python 3",
   "language": "python",
   "name": "python3"
  },
  "language_info": {
   "codemirror_mode": {
    "name": "ipython",
    "version": 3
   },
   "file_extension": ".py",
   "mimetype": "text/x-python",
   "name": "python",
   "nbconvert_exporter": "python",
   "pygments_lexer": "ipython3",
   "version": "3.6.9"
  }
 },
 "nbformat": 4,
 "nbformat_minor": 4
}
